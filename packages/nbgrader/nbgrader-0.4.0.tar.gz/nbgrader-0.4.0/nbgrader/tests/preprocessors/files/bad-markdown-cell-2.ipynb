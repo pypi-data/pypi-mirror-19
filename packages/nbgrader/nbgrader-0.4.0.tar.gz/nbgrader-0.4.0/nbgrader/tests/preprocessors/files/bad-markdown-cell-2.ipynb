{
 "cells": [
  {
   "cell_type": "markdown",
   "metadata": {
    "collapsed": false,
    "nbgrader": {
     "grade": false,
     "locked": false,
     "schema_version": 1,
     "solution": true
    }
   },
   "source": [
    "this is a markdown cell"
   ]
  }
 ],
 "metadata": {},
 "nbformat": 4,
 "nbformat_minor": 0
}
