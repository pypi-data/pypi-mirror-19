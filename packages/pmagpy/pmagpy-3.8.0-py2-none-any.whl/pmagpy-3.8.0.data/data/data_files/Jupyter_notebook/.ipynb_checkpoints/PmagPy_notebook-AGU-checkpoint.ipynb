{
 "metadata": {
  "name": "",
  "signature": "sha256:144232446105ac78d9762204134df7e2c09d0682afc3b530fee26e6301582773"
 },
 "nbformat": 3,
 "nbformat_minor": 0,
 "worksheets": [
  {
   "cells": [
    {
     "cell_type": "heading",
     "level": 1,
     "metadata": {},
     "source": [
      "An example IPython (Jupyter) notebook for paleomagnetic data analysis"
     ]
    },
    {
     "cell_type": "markdown",
     "metadata": {},
     "source": [
      "This notebook demonstrates some of the functionality that is possible when using PmagPy functions in an interactive notebook environment. The code block below imports necessary libraries from PmagPy and scientific modules that define functions that will be used in the data analysis. Using 'sys.path.insert' allows you to point to the directory where you keep PmagPy in order to import it. **You will need to change the path to match where the PmagPy folder is on your computer.   "
     ]
    },
    {
     "cell_type": "code",
     "collapsed": false,
     "input": [
      "import sys\n",
      "#change to match where the PmagPy folder is on your computer\n",
      "sys.path.insert(0, '/Users/ltauxe/PmagPy')\n",
      "import pmag,pmagplotlib,ipmag # import PmagPy functions\n",
      "import numpy, pandas \n",
      "import matplotlib.pyplot as plt # import scientic python functions\n",
      "# allow plots to be generated in the notebook \n",
      "%matplotlib inline "
     ],
     "language": "python",
     "metadata": {},
     "outputs": [],
     "prompt_number": 9
    },
    {
     "cell_type": "heading",
     "level": 3,
     "metadata": {},
     "source": [
      "Analyzing data from Snake River Plain"
     ]
    },
    {
     "cell_type": "markdown",
     "metadata": {},
     "source": [
      "Let's look at data from this study (http://earthref.org/doi/10.1029/2003GC000661): Tauxe, L., Luskin, C., Selkin, P., Gans, P., and Calvert, A., Paleomagnetic results from the Snake River Plain: Contribution to the time-averaged field global database, Geochem. Geophys. Geosyst., doi: 10.1029/2003GC000661.  Download and unpack the data into a folder (here called Tauxe04_MagIC) in the same directory as this notebook.  "
     ]
    },
    {
     "cell_type": "code",
     "collapsed": false,
     "input": [
      "data = pandas.read_csv('Tauxe04_MagIC/pmag_results.txt',sep='\t',header=1)# loads data\n",
      "DI_results = data.dropna(subset = ['average_dec']) # screens out blank data\n",
      "ipmag.plot_net(1)\n",
      "plt.title('Snake River equal area plot')\n",
      "ipmag.plot_di(DI_results['average_dec'],DI_results['average_inc'])"
     ],
     "language": "python",
     "metadata": {},
     "outputs": [
      {
       "metadata": {},
       "output_type": "display_data",
       "png": "[encoded data removed]",
       "text": [
        "<matplotlib.figure.Figure at 0x10d80cf10>"
       ]
      }
     ],
     "prompt_number": 13
    }
   ],
   "metadata": {}
  }
 ]
}