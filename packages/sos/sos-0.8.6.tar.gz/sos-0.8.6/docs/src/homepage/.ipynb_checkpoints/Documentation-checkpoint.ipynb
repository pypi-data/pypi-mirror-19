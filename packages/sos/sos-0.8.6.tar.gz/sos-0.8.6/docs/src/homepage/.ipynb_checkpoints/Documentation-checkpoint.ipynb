{
 "cells": [
  {
   "cell_type": "markdown",
   "metadata": {},
   "source": [
    "# Tutorials"
   ]
  },
  {
   "cell_type": "markdown",
   "metadata": {},
   "source": [
    "[Quick Start Guide](doc/tutorials/Quick_Start_Guide.html)<br>\n",
    "    Brief introduction to the SoS format and basic usages\n",
    "    \n",
    "[Using SoS interactively](doc/tutorials/Using_SoS_Interactively.html)<br>\n",
    "Interactive execution of SoS workflows\n",
    "\n",
    "* [Using SoS with Jupyter notebook](doc/tutorials/Using_SoS_with_Jupyter_Notebook.html)<br>\n",
    "    For interactive data analysis in a notebook interface\n",
    "* [Using Spyder as SoS IDE](doc/tutorials/Using_SoS_with_Spyder.html)<br>\n",
    "    For data analysis and workflow development with an IDE\n",
    "* [Using Spyder with iPython](doc/tutorials/Using_SoS_with_IPython.html)<br>\n",
    "    For experienced iPyhton user\n",
    "* [using SoS with VIM](doc/tutorials/Using_SoS_with_VIM.html)<br>\n",
    "    For hard-core vim user\n",
    "\n",
    "[Running SoS workflows](doc/tutorials/Execution_of_Workflow.html)<br>\n",
    "   Make effective use of SoS in batch mode\n",
    "\n",
    "[Generating Reports](doc/tutorials/Generating_Reports.html)<br>\n",
    "   Generate reports using [pandoc](http://pandoc.org/) or [Rmarkdown](http://rmarkdown.rstudio.com/)\n",
    "\n",
    "[Project Management](doc/tutorials/Project_Management.html)<br>\n",
    "   Manage files and archive projects."
   ]
  },
  {
   "cell_type": "markdown",
   "metadata": {},
   "source": [
    "# Documentation\n",
    "\n",
    "[SoS Syntax](doc/documentation/SoS_Syntax.html)<br>\n",
    "   An overview of the SoS syntax and key components of SoS scripts\n",
    "    \n",
    "* [String Interpolation](doc/documentation/String_Interpolation.html)<br>\n",
    "    Compose scripts in other languages using SoS variables\n",
    "    \n",
    "[Defining workflows](doc/documentation/Workflow_Specification.html)<br>\n",
    "  Define one or more workflows in a SoS script\n",
    "  \n",
    "* [Understanding Targets](doc/documentation/Understanding_Targets.html)<br>\n",
    "  Beyond file targets\n",
    "* [SoS Actions](doc/documentation/SoS_Actions.html)<br>\n",
    "  How to use and define SoS actions\n",
    "* [Steps of workflow](doc/documentation/SoS_Step.html)<br>\n",
    "  Step input, depends, output, and process\n",
    "* [Makefile-style workflows](doc/documentation/Auxiliary_Steps.html)<br>\n",
    "  Steps that are executed only when needed\n",
    " \n",
    "[User Interface](doc/documentation/User_Interface.html)<br>\n",
    "Command line and notebook interface\n",
    "\n",
    "* [Command line options](doc/documentation/Command_Line_Options.html)<br>\n",
    "  Customize workflow with command line options\n",
    "* [Configuration files](doc/documentation/Configuration_Files.html)<br>\n",
    "  Use of global, local and user-specified configuration files\n",
    "* [Jupyter notebook interface](doc/documentation/Notebook_Interface.html)<br>\n",
    "  Using SoS with Jupyter notebook\n",
    "    \n",
    "[Function Reference](doc/documentation/Function_Reference.html)<br>\n",
    "   References to all SoS functions, actions, and objects.\n",
    "   \n",
    "[Extending SoS](doc/documentation/Extending_SoS.html)<br>\n",
    "  Define your own target, language, converter."
   ]
  },
  {
   "cell_type": "markdown",
   "metadata": {},
   "source": [
    "# Examples\n",
    "\n",
    "SoS scripts for the maintenance of SoS\n",
    "* [update_toc.sos](doc/examples/update_toc.html)<br>\n",
    "   A sos script that was used by SoS to update TOC of the wiki pages."
   ]
  }
 ],
 "metadata": {
  "anaconda-cloud": {},
  "kernelspec": {
   "display_name": "SoS",
   "language": "sos",
   "name": "sos"
  },
  "language_info": {
   "codemirror_mode": "sos",
   "file_extension": ".sos",
   "mimetype": "text/x-sos",
   "name": "sos",
   "nbconvert_exporter": "sos.jupyter.converter.SoS_Exporter",
   "pygments_lexer": "sos"
  },
  "toc": {
   "colors": {
    "hover_highlight": "#DAA520",
    "running_highlight": "#FF0000",
    "selected_highlight": "#FFD700"
   },
   "moveMenuLeft": true,
   "nav_menu": {
    "height": "45px",
    "width": "254px"
   },
   "navigate_menu": true,
   "number_sections": true,
   "sideBar": true,
   "threshold": 4,
   "toc_cell": false,
   "toc_section_display": "block",
   "toc_window_display": false
  }
 },
 "nbformat": 4,
 "nbformat_minor": 2
}
