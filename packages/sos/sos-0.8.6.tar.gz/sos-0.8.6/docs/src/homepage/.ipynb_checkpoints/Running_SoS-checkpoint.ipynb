{
 "cells": [
  {
   "cell_type": "markdown",
   "metadata": {},
   "source": [
    "# For the Curious"
   ]
  },
  {
   "cell_type": "markdown",
   "metadata": {},
   "source": [
    "If you are just curious about what SoS is and how it works, you can test SoS in our <a target=\"_blank\" href=\"http://ec2-34-192-184-206.compute-1.amazonaws.com:8000/\">public Jupyter server</a>. The `doc` directory contains all the documentations and tutorials that you can actually execute."
   ]
  },
  {
   "cell_type": "markdown",
   "metadata": {},
   "source": [
    "# Running SoS in Docker "
   ]
  },
  {
   "cell_type": "markdown",
   "metadata": {},
   "source": [
    "If you are using docker, you can run SoS directly using command\n",
    "\n",
    "```\n",
    "% docker run -it mdabioinfo/sos:latest /bin/bash\n",
    "```\n",
    "\n",
    "to enter a command prompt with sos command. More usefully, you can start a Jupyter server with [R](https://www.r-project.org/) and [IRkernel](https://github.com/IRkernel/IRkernel), Julia, Python, and SoS kernels, and many Python and R modules for data sciencists using command\n",
    "\n",
    "```\n",
    "% docker run -d -p 8888:8888 mdabioinfo/sos-notebook\n",
    "```\n",
    "\n",
    "After the docker is running in the background, you can start a browser and start working with a complete SoS environment with URL\n",
    "\n",
    "```\n",
    "http://localhost:8888\n",
    "```\n",
    "\n",
    "You can even use this docker image for your daily data analysis if you make your local directory available to the Jupyter server using command \n",
    "\n",
    "```\n",
    "% docker run -d -p 8888:8888 -v $HOME:/home/jovyan/work  mdabioinfo/sos-notebook\n",
    "```\n",
    "\n",
    "This command mounts your home directory (`$HOME`) to directory `work` under the home directory of the docker machine but you can mount any local directory to the docker image. This container is hosted at [our public Jupyter\n",
    "server](http://ec2-34-192-184-206.compute-1.amazonaws.com:8000/) from which you can open our sample notebooks and create your own notebooks without installing anything."
   ]
  },
  {
   "cell_type": "markdown",
   "metadata": {},
   "source": [
    "# Installing SoS locally"
   ]
  },
  {
   "cell_type": "markdown",
   "metadata": {},
   "source": [
    "SoS supports Linux, Mac OSX, and Windows systems and requires [Python 3](https://www.python.org/) (version 3.4 or later) so you will need to install Python 3 if you do not have it installed locally. We recommend [ananconda Python](https://www.continuum.io/downloads) because it is a complete Python environment with many packages for scientific computing."
   ]
  },
  {
   "cell_type": "markdown",
   "metadata": {},
   "source": [
    "After you have installed Python 3, you can install SoS with\n",
    "\n",
    "```\n",
    "% pip3 install sos\n",
    "```\n",
    "\n",
    "or \n",
    "\n",
    "```\n",
    "% pip install sos\n",
    "```\n",
    "\n",
    "depending on the command used for your Python 3 installation."
   ]
  },
  {
   "cell_type": "markdown",
   "metadata": {},
   "source": [
    "##  Supported Languages"
   ]
  },
  {
   "cell_type": "markdown",
   "metadata": {},
   "source": [
    "### R"
   ]
  },
  {
   "cell_type": "markdown",
   "metadata": {},
   "source": [
    "The following packages are needed if you are using SoS with R\n",
    "\n",
    "* [R](https://www.r-project.org/) version 3.2 or later (for IRKernel)\n",
    "* [IRKernel](https://github.com/IRkernel/IRkernel) R kernel for Jupyter\n",
    "* Python [feather-format](https://github.com/wesm/feather) module for exchanging data frames between SoS/Python DataFrame and R data.frame. This\n",
    "module is not installed by default because it need to compile from source or [install from conda](https://pypi.python.org/pypi/feather-format)."
   ]
  },
  {
   "cell_type": "markdown",
   "metadata": {},
   "source": [
    "# Testing the Cutting-Edge"
   ]
  },
  {
   "cell_type": "markdown",
   "metadata": {},
   "source": [
    "You can get the latest git version of SoS with commands\n",
    "\n",
    "```\n",
    "% git clone https://github.com/BoPeng/SOS.git\n",
    "% cd SOS\n",
    "% python setup.py install\n",
    "```"
   ]
  }
 ],
 "metadata": {
  "anaconda-cloud": {},
  "kernelspec": {
   "display_name": "SoS",
   "language": "sos",
   "name": "sos"
  },
  "language_info": {
   "codemirror_mode": "sos",
   "file_extension": ".sos",
   "mimetype": "text/x-sos",
   "name": "sos",
   "nbconvert_exporter": "sos.jupyter.converter.SoS_Exporter",
   "pygments_lexer": "sos"
  },
  "toc": {
   "colors": {
    "hover_highlight": "#DAA520",
    "running_highlight": "#FF0000",
    "selected_highlight": "#FFD700"
   },
   "moveMenuLeft": true,
   "nav_menu": {
    "height": "128px",
    "width": "254px"
   },
   "navigate_menu": true,
   "number_sections": true,
   "sideBar": true,
   "threshold": 4,
   "toc_cell": false,
   "toc_section_display": "block",
   "toc_window_display": false
  }
 },
 "nbformat": 4,
 "nbformat_minor": 2
}
